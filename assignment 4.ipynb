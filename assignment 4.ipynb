{
 "cells": [
  {
   "cell_type": "code",
   "execution_count": 20,
   "metadata": {},
   "outputs": [
    {
     "name": "stdout",
     "output_type": "stream",
     "text": [
      "Welcome this program can store a person you know !\n",
      "Enter the first name : Umar\n",
      "Enter th Last name : Ahmed\n",
      "Enter the age of the person : 20\n",
      "Enter the city where a person lives : Karachi\n",
      "\n",
      "\n",
      "The values are -------------------\n",
      "\n",
      "The first_name of the person is : Umar\n",
      "The last_name of the person is : Ahmed\n",
      "The age of the person is : 20\n",
      "The city of the person is : Karachi\n",
      "\n",
      "\n",
      "adding qualification a high academic level \n",
      "\n",
      "\n",
      "\n",
      "The values are -------------------\n",
      "\n",
      "The first_name of the person is : Umar\n",
      "The last_name of the person is : Ahmed\n",
      "The age of the person is : 20\n",
      "The city of the person is : Karachi\n",
      "The qualification of the person is : high academic level\n",
      "\n",
      "\n",
      "after deleting\n",
      "\n",
      "\n",
      "\n",
      "The values are -------------------\n",
      "\n",
      "The first_name of the person is : Umar\n",
      "The last_name of the person is : Ahmed\n",
      "The age of the person is : 20\n",
      "The city of the person is : Karachi\n",
      "\n",
      "\n"
     ]
    }
   ],
   "source": [
    "#Question 1\n",
    "dictionary={\n",
    "    \"first_name\": \"\" ,\n",
    "    \"last_name\": \"\" ,\n",
    "    \"age\": \"\" ,\n",
    "    \"city\": \"\" ,\n",
    "}\n",
    "print(\"Welcome this program can store a person you know !\")\n",
    "dictionary[\"first_name\"] = input(\"Enter the first name : \")\n",
    "dictionary[\"last_name\"] = input(\"Enter th Last name : \")\n",
    "dictionary[\"age\"] = input(\"Enter the age of the person : \")\n",
    "dictionary[\"city\"] = input(\"Enter the city where a person lives : \")\n",
    "\n",
    "print(\"\\n\")\n",
    "print(\"The values are -------------------\\n\")\n",
    "for key , value in dictionary.items():\n",
    "    print(\"The \"+key+\" of the person is : \"+value)\n",
    "print(\"\\n\")\n",
    "\n",
    "dictionary[\"qualification\"] = \"high academic level\"\n",
    "\n",
    "print(\"adding qualification a high academic level \\n\")\n",
    "print(\"\\n\")\n",
    "print(\"The values are -------------------\\n\")\n",
    "for key , value in dictionary.items():\n",
    "    print(\"The \"+key+\" of the person is : \"+value)\n",
    "print(\"\\n\")\n",
    "\n",
    "del dictionary[\"qualification\"]\n",
    "\n",
    "print(\"after deleting\\n\")\n",
    "print(\"\\n\")\n",
    "print(\"The values are -------------------\\n\")\n",
    "for key , value in dictionary.items():\n",
    "    print(\"The \"+key+\" of the person is : \"+value)\n",
    "print(\"\\n\")\n"
   ]
  },
  {
   "cell_type": "code",
   "execution_count": 21,
   "metadata": {},
   "outputs": [
    {
     "name": "stdout",
     "output_type": "stream",
     "text": [
      "---------------------------\n",
      "Karachi\n",
      "---------------------------\n",
      "The Coutry of Karachi is : Pakistan\n",
      "The Population of Karachi is : 14.91 million\n",
      "The fact of Karachi is : Karachi is vital to Pakistan's economy, contributing 42 per cent of GDP , 70 per cent of income tax revenue and 62 per cent of sales tax revenue.\n",
      "---------------------------\n",
      "New York\n",
      "---------------------------\n",
      "The Coutry of New York is : United States\n",
      "The Population of New York is : 8.623 million\n",
      "The fact of New York is : City is made up of five boroughs: Manhattan, The Bronx, Queens, Brooklyn, and Staten Island.\n",
      "---------------------------\n",
      "Moscow\n",
      "---------------------------\n",
      "The Coutry of Moscow is : Russia\n",
      "The Population of Moscow is : 11.92 million\n",
      "The fact of Moscow is : Nowadays Moscow is the most important political and financial center of Russia and is home to the government and the parlament.\n"
     ]
    }
   ],
   "source": [
    "#Question 2\n",
    "\n",
    "cities = {\n",
    "\"Karachi\" :{\n",
    "    \"Coutry\" : \"Pakistan\",\n",
    "    \"Population\" : \"14.91 million\",\n",
    "    \"fact\" : \"Karachi is vital to Pakistan's economy, contributing 42 per cent of GDP , 70 per cent of income tax revenue and 62 per cent of sales tax revenue.\",\n",
    "},\n",
    "\"New York\"  :{\n",
    "    \"Coutry\" : \"United States\",\n",
    "    \"Population\" : \"8.623 million\",\n",
    "    \"fact\" : \"City is made up of five boroughs: Manhattan, The Bronx, Queens, Brooklyn, and Staten Island.\",\n",
    "},\n",
    "\"Moscow\"  :{\n",
    "    \"Coutry\" : \"Russia\",\n",
    "    \"Population\" : \"11.92 million\",\n",
    "    \"fact\" : \"Nowadays Moscow is the most important political and financial center of Russia and is home to the government and the parlament.\",\n",
    "},\n",
    "}\n",
    "\n",
    "\n",
    "for city_name , details in cities.items():\n",
    "    print(\"---------------------------\")\n",
    "    print(city_name)\n",
    "    print(\"---------------------------\")\n",
    "    for info , value in details.items():\n",
    "        print(\"The \"+info+\" of \"+city_name+\" is : \"+value)\n",
    "    \n"
   ]
  },
  {
   "cell_type": "code",
   "execution_count": 22,
   "metadata": {},
   "outputs": [
    {
     "name": "stdout",
     "output_type": "stream",
     "text": [
      "------Ticket price calculator------\n",
      "Enter your age to calculate the price of the ticket 20\n",
      "The price of your ticket is : 12$\n"
     ]
    }
   ],
   "source": [
    "#Quetion 3\n",
    "print(\"------Ticket price calculator------\")\n",
    "age = int(input(\"Enter your age to calculate the price of the ticket \"))\n",
    "if age < 3:\n",
    "    print(\"The price of your ticket is : free\")\n",
    "elif age > 2 and age < 13:\n",
    "    print(\"The price of your ticket is : 10$\")\n",
    "else:\n",
    "    print(\"The price of your ticket is : 12$\")"
   ]
  },
  {
   "cell_type": "code",
   "execution_count": 23,
   "metadata": {},
   "outputs": [
    {
     "name": "stdout",
     "output_type": "stream",
     "text": [
      "Calling a fuction\n",
      "One of my favorite books is Alice in Wonderland\n"
     ]
    }
   ],
   "source": [
    "#Question 4\n",
    "print(\"Calling a fuction\")\n",
    "\n",
    "def favorite_book(title):\n",
    "    print(\"One of my favorite books is \"+title)\n",
    "\n",
    "favorite_book(\"Alice in Wonderland\")\n",
    "\n",
    "    "
   ]
  },
  {
   "cell_type": "code",
   "execution_count": 19,
   "metadata": {},
   "outputs": [
    {
     "name": "stdout",
     "output_type": "stream",
     "text": [
      "Guess the number game\n",
      "Enter your guess\n",
      "20\n",
      "Hint : The number is smaller than your guess\n",
      "\n",
      "Enter your guess\n",
      "15\n",
      "Hint : The number is greater than your guess\n",
      "\n",
      "Enter your guess\n",
      "18\n",
      "\n",
      "You got the number great !\n",
      "\n"
     ]
    }
   ],
   "source": [
    "#Question 5\n",
    "from random import randint\n",
    "\n",
    "random_number = randint(1,30)\n",
    "\n",
    "print(\"Guess the number game\\n You have only 3 chances\\n\")\n",
    "\n",
    "chances = 0\n",
    "\n",
    "while chances != 3:\n",
    "    guess = int(input(\"Enter your guess\\n\"))\n",
    "    \n",
    "    if guess < random_number:\n",
    "        print(\"Hint : The number is greater than your guess\\n\")\n",
    "    elif guess > random_number:\n",
    "        print(\"Hint : The number is smaller than your guess\\n\")\n",
    "    elif guess == random_number:\n",
    "        break\n",
    "    chances = chances + 1\n",
    "    \n",
    "if guess == random_number:\n",
    "    print(\"\\nYou got the number great !\\n\")\n",
    "else :\n",
    "    print(\"Better luck next time\\n\")\n",
    "        "
   ]
  }
 ],
 "metadata": {
  "kernelspec": {
   "display_name": "Python 3",
   "language": "python",
   "name": "python3"
  },
  "language_info": {
   "codemirror_mode": {
    "name": "ipython",
    "version": 3
   },
   "file_extension": ".py",
   "mimetype": "text/x-python",
   "name": "python",
   "nbconvert_exporter": "python",
   "pygments_lexer": "ipython3",
   "version": "3.6.5"
  }
 },
 "nbformat": 4,
 "nbformat_minor": 2
}
