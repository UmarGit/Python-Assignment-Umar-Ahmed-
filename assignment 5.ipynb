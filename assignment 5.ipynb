{
 "cells": [
  {
   "cell_type": "code",
   "execution_count": 5,
   "metadata": {},
   "outputs": [
    {
     "name": "stdout",
     "output_type": "stream",
     "text": [
      "Enter the number to find its factorial :6\n",
      "\n",
      "This number is a non negative type : 6\n",
      "\n",
      "The factorial of 6 is : 720\n"
     ]
    }
   ],
   "source": [
    "#Question 1\n",
    "fact = int(input(\"Enter the number to find its factorial :\"))\n",
    "\n",
    "def factorial(a):\n",
    "    if a == 0 :\n",
    "        return 1\n",
    "    else:\n",
    "        return a * factorial(a - 1)\n",
    "\n",
    "if fact > 0 :\n",
    "    print(\"\\nThis number is a non negative type : \" + str(fact))\n",
    "    print(\"\\nThe factorial of {} is : {}\".format(fact,factorial(fact)))\n",
    "else :\n",
    "    print(\"\\nThis number is a negative type : \" + str(fact))"
   ]
  },
  {
   "cell_type": "code",
   "execution_count": 6,
   "metadata": {},
   "outputs": [
    {
     "name": "stdout",
     "output_type": "stream",
     "text": [
      "Enter a string with upper case and lower case lettersI am Umar Ahmed\n",
      "I\n",
      " \n",
      "a\n",
      "m\n",
      " \n",
      "U\n",
      "m\n",
      "a\n",
      "r\n",
      " \n",
      "A\n",
      "h\n",
      "m\n",
      "e\n",
      "d\n",
      "There are 3 upper case and 9 lower case letters and 3 spaces in the string : I am Umar Ahmed\n"
     ]
    }
   ],
   "source": [
    "#Question 2\n",
    "strings = input(\"Enter a string with upper case and lower case letters\")\n",
    "upper_case = 0\n",
    "lower_case = 0\n",
    "spaces = 0  \n",
    "for letter in strings:\n",
    "    print(letter)\n",
    "    if letter.isupper():\n",
    "        upper_case = upper_case + 1\n",
    "    elif letter.islower():\n",
    "        lower_case = lower_case + 1\n",
    "    elif letter == \" \":\n",
    "        spaces = spaces + 1\n",
    "print(\"There are {} upper case and {} lower case letters and {} spaces in the string : {}\".format(upper_case,lower_case,spaces,strings))\n"
   ]
  },
  {
   "cell_type": "code",
   "execution_count": 7,
   "metadata": {},
   "outputs": [
    {
     "name": "stdout",
     "output_type": "stream",
     "text": [
      "[2, 231, 4, 5, 23, 35, 3, 5, 6, 342, 3, 4, 34, 2, 2, 6, 7, 756, 5, 51, 89, 91]\n",
      "\n",
      "2 is an even number\n",
      "4 is an even number\n",
      "6 is an even number\n",
      "342 is an even number\n",
      "4 is an even number\n",
      "34 is an even number\n",
      "2 is an even number\n",
      "2 is an even number\n",
      "6 is an even number\n",
      "756 is an even number\n",
      "\n",
      "The even numbers are : [2, 4, 6, 342, 4, 34, 2, 2, 6, 756]\n"
     ]
    }
   ],
   "source": [
    "#Question 3\n",
    "list1 = [2,231,4,5,23,35,3,5,6,342,3,4,34,2,2,6,7,756,5,51,89,91] \n",
    "list2 = []\n",
    "print(str(list1)+\"\\n\")\n",
    "for number in list1:\n",
    "    if number % 2 == 0:\n",
    "        print(\"{} is an even number\".format(number))\n",
    "        list2.append(number)\n",
    "print(\"\\nThe even numbers are : \"+str(list2))"
   ]
  },
  {
   "cell_type": "code",
   "execution_count": 8,
   "metadata": {},
   "outputs": [
    {
     "name": "stdout",
     "output_type": "stream",
     "text": [
      "Enter to check the string is palindrome : madam\n",
      "\n",
      "The String is Palindrome\n"
     ]
    }
   ],
   "source": [
    "#Question 4\n",
    "string = input(\"Enter to check the string is palindrome : \")\n",
    "def reverse(s): \n",
    "  str = \"\" \n",
    "  for i in s: \n",
    "    str = i + str\n",
    "  return str\n",
    "if string == reverse(string) :\n",
    "    print(\"\\nThe String is Palindrome\")\n",
    "else :\n",
    "    print(\"\\nThe String is not Palindrome\")\n",
    "    "
   ]
  },
  {
   "cell_type": "code",
   "execution_count": 9,
   "metadata": {},
   "outputs": [
    {
     "name": "stdout",
     "output_type": "stream",
     "text": [
      "Enter to check a number is prime or not ! : 2\n",
      "2 is a prime number\n"
     ]
    }
   ],
   "source": [
    "#Question 5\n",
    "num = int(input(\"Enter to check a number is prime or not ! : \"))\n",
    "if num > 1:\n",
    "    for i in range(2, num):\n",
    "        if (num % i) == 0:\n",
    "            print(num,\"is not a prime number\")\n",
    "            print(i,\"times\",num//i,\"is\",num)\n",
    "            break \n",
    "            break\n",
    "    else: \n",
    "        print(num, \"is a prime number\") \n",
    "else:\n",
    "    print(num, \"..is not a prime number\") "
   ]
  },
  {
   "cell_type": "code",
   "execution_count": 4,
   "metadata": {},
   "outputs": [
    {
     "name": "stdout",
     "output_type": "stream",
     "text": [
      "---------Welcome to the python super market----------\n",
      "You can select as many things as you want to buy !\n",
      "1 t-shirt\n",
      "2 shoes\n",
      "3 belt\n",
      "4 mobile\n",
      "5 book\n",
      "6 food\n",
      "7 tie\n",
      "8 socks\n",
      "Enter the number to add in the cart \n",
      " \n",
      "Enter any number which is not in market \n",
      "to exit (max = 999 choices) : 2\n",
      "Added !!\n",
      "Enter the number to add in the cart \n",
      " \n",
      "Enter any number which is not in market \n",
      "to exit (max = 999 choices) : 4\n",
      "Added !!\n",
      "Enter the number to add in the cart \n",
      " \n",
      "Enter any number which is not in market \n",
      "to exit (max = 999 choices) : 5\n",
      "Added !!\n",
      "Enter the number to add in the cart \n",
      " \n",
      "Enter any number which is not in market \n",
      "to exit (max = 999 choices) : 6\n",
      "Added !!\n",
      "Enter the number to add in the cart \n",
      " \n",
      "Enter any number which is not in market \n",
      "to exit (max = 999 choices) : 4\n",
      "Added !!\n",
      "Enter the number to add in the cart \n",
      " \n",
      "Enter any number which is not in market \n",
      "to exit (max = 999 choices) : 5\n",
      "Added !!\n",
      "Enter the number to add in the cart \n",
      " \n",
      "Enter any number which is not in market \n",
      "to exit (max = 999 choices) : 4\n",
      "Added !!\n",
      "Enter the number to add in the cart \n",
      " \n",
      "Enter any number which is not in market \n",
      "to exit (max = 999 choices) : 97\n",
      "Exited !!\n",
      "You buyed :   shoes\n",
      "You buyed :   mobile\n",
      "You buyed :   book\n",
      "You buyed :   food\n",
      "You buyed :   mobile\n",
      "You buyed :   book\n",
      "You buyed :   mobile\n"
     ]
    }
   ],
   "source": [
    "#Question 6 \n",
    "\n",
    "market = {\n",
    "    1 : \"t-shirt\",\n",
    "    2 : \"shoes\",\n",
    "    3 : \"belt\",\n",
    "    4 : \"mobile\",\n",
    "    5 : \"book\",\n",
    "    6 : \"food\",\n",
    "    7 : \"tie\",\n",
    "    8 : \"socks\"\n",
    "}\n",
    "list = []\n",
    "def cart(*items):\n",
    "    for i in range(0,len(items)):\n",
    "        list.append(market[items[i]])\n",
    "        \n",
    "        \n",
    "        \n",
    "print(\"---------Welcome to the python super market----------\\nYou can select as many things as you want to buy !\")\n",
    "for num , item in market.items():\n",
    "    print(str(num)+\" \"+str(item))\n",
    "choice = 0\n",
    "while choice != 999:\n",
    "    choice = int(input(\"Enter the number to add in the cart \\n \\nEnter any number which is not in market \\nto exit (max = 999 choices) : \"))\n",
    "    if choice in market:\n",
    "        print(\"Added !!\")\n",
    "        cart(choice)\n",
    "    else:\n",
    "        print(\"Exited !!\")\n",
    "        break\n",
    "    \n",
    "for x in list:\n",
    "    print(\"You buyed :   \"+str(x))\n",
    "\n"
   ]
  },
  {
   "cell_type": "markdown",
   "metadata": {},
   "source": []
  },
  {
   "cell_type": "code",
   "execution_count": null,
   "metadata": {},
   "outputs": [],
   "source": []
  }
 ],
 "metadata": {
  "kernelspec": {
   "display_name": "Python 3",
   "language": "python",
   "name": "python3"
  },
  "language_info": {
   "codemirror_mode": {
    "name": "ipython",
    "version": 3
   },
   "file_extension": ".py",
   "mimetype": "text/x-python",
   "name": "python",
   "nbconvert_exporter": "python",
   "pygments_lexer": "ipython3",
   "version": "3.6.5"
  }
 },
 "nbformat": 4,
 "nbformat_minor": 2
}
