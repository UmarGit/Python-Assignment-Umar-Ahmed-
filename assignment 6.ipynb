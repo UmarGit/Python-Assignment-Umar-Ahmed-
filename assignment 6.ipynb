{
 "cells": [
  {
   "cell_type": "code",
   "execution_count": 3,
   "metadata": {},
   "outputs": [
    {
     "name": "stdout",
     "output_type": "stream",
     "text": [
      "Definition : \n",
      "\n",
      " Object-oriented programming (OOP) is a programming language model in which programs are organized around data,\n",
      " or objects, rather than functions and logic.\n",
      " An object can be defined as a data field that has unique attributes and behavior.\n",
      " Examples of an object can range from physical entities,\n",
      " such as a human being that is described by properties like name and address,\n",
      " down to small computer programs, such as widgets.\n",
      " This opposes the historical approach to programming where emphasis was placed\n",
      " on how the logic was written rather than how to define the data within the logic.\n",
      "\n"
     ]
    }
   ],
   "source": [
    "#Qusetion 1\n",
    "\n",
    "print(\"Definition : \\n\")\n",
    "print(\" Object-oriented programming (OOP) is a programming language model in which programs are organized around data,\\n or objects, rather than functions and logic.\\n An object can be defined as a data field that has unique attributes and behavior.\\n Examples of an object can range from physical entities,\\n such as a human being that is described by properties like name and address,\\n down to small computer programs, such as widgets.\\n This opposes the historical approach to programming where emphasis was placed\\n on how the logic was written rather than how to define the data within the logic.\\n\")"
   ]
  },
  {
   "cell_type": "code",
   "execution_count": 4,
   "metadata": {},
   "outputs": [
    {
     "name": "stdout",
     "output_type": "stream",
     "text": [
      "Benefits :\n",
      "\n",
      "1. Modularity for easier troubleshooting\n",
      "\n",
      "2. Reuse of code through inheritance\n",
      "\n",
      "3. Flexibility through polymorphism\n",
      "\n",
      "4. Effective problem solving\n",
      "\n"
     ]
    }
   ],
   "source": [
    "#Question 2\n",
    "\n",
    "print(\"Benefits :\\n\")\n",
    "print(\"1. Modularity for easier troubleshooting\\n\")\n",
    "print(\"2. Reuse of code through inheritance\\n\")\n",
    "print(\"3. Flexibility through polymorphism\\n\")\n",
    "print(\"4. Effective problem solving\\n\")"
   ]
  },
  {
   "cell_type": "code",
   "execution_count": 6,
   "metadata": {},
   "outputs": [
    {
     "name": "stdout",
     "output_type": "stream",
     "text": [
      "Difference between functions and methods\n",
      "\n",
      "A function is a piece of code that is called by name. It can be passed data to operate on (i.e. the parameters) and can optionally return data (the return value). All data that is passed to a function is explicitly passed.\n",
      "\n",
      "A method is a piece of code that is called by a name that is associated with an object. In most aspects it is identical to a function\n"
     ]
    }
   ],
   "source": [
    "#Question 3\n",
    "\n",
    "print(\"Difference between functions and methods\\n\")\n",
    "print(\"A function is a piece of code that is called by name. It can be passed data to operate on (i.e. the parameters) and can optionally return data (the return value). All data that is passed to a function is explicitly passed.\\n\")\n",
    "print(\"A method is a piece of code that is called by a name that is associated with an object. In most aspects it is identical to a function\")"
   ]
  },
  {
   "cell_type": "code",
   "execution_count": 7,
   "metadata": {},
   "outputs": [
    {
     "name": "stdout",
     "output_type": "stream",
     "text": [
      "Class :\n",
      "\n",
      "A class is a blueprint or prototype that defines the variables and the methods (functions) common to all objects of a certain kind.n\n",
      "Object :\n",
      "\n",
      "An object is a specimen of a class. Software objects are often used to model real-world objects you find in everyday life.\n",
      "\n",
      "Attribute :\n",
      "\n",
      "Attributes are data stored inside a class or instance and represent the state or quality of the class or instance.\n",
      "\n",
      "Behaviour :\n",
      "\n",
      "The behavior of an object is defined by its methods, which are the functions and subroutines defined within the object class. Without class methods, a class would simply be a structure. Methods determine what type of functionality a class has, how it modifies its data, and its overall behavior.\n",
      "\n"
     ]
    }
   ],
   "source": [
    "#Question 4\n",
    "\n",
    "print(\"Class :\\n\")\n",
    "\n",
    "print(\"A class is a blueprint or prototype that defines the variables and the methods (functions) common to all objects of a certain kind.n\")\n",
    "\n",
    "print(\"Object :\\n\")\n",
    "\n",
    "print(\"An object is a specimen of a class. Software objects are often used to model real-world objects you find in everyday life.\\n\")\n",
    "\n",
    "print(\"Attribute :\\n\")\n",
    "\n",
    "print(\"Attributes are data stored inside a class or instance and represent the state or quality of the class or instance.\\n\")\n",
    "\n",
    "print(\"Behaviour :\\n\")\n",
    "\n",
    "print(\"The behavior of an object is defined by its methods, which are the functions and subroutines defined within the object class. Without class methods, a class would simply be a structure. Methods determine what type of functionality a class has, how it modifies its data, and its overall behavior.\\n\")\n"
   ]
  },
  {
   "cell_type": "code",
   "execution_count": 10,
   "metadata": {},
   "outputs": [
    {
     "name": "stdout",
     "output_type": "stream",
     "text": [
      "The name of car is Mercedes with model no. 1923 having a color of Black with a 200kmh speed and 4 tires\n",
      "\n",
      "You changed the color Orange \n",
      "\n",
      "Enter the speed of your car\n",
      "210\n",
      "The name of car is Mercedes with model no. 1923 having a color of Orange with a 210kmh speed and 4 tires\n",
      "\n",
      "The name of car is Audi with model no. 2018 having a color of Blue with a 290kmh speed and 4 tires\n",
      "\n",
      "You changed the color Orange \n",
      "\n",
      "Enter the speed of your car\n",
      "295\n",
      "The name of car is Audi with model no. 2018 having a color of Orange with a 295kmh speed and 4 tires\n",
      "\n",
      "The name of car is Honda with model no. 2019 having a color of Yellow with a 300kmh speed and 4 tires\n",
      "\n",
      "You changed the color Orange \n",
      "\n",
      "Enter the speed of your car\n",
      "360\n",
      "The name of car is Honda with model no. 2019 having a color of Orange with a 360kmh speed and 4 tires\n",
      "\n",
      "The name of car is Kia with model no. 2019 having a color of White with a 120kmh speed and 4 tires\n",
      "\n",
      "You changed the color Orange \n",
      "\n",
      "Enter the speed of your car\n",
      "160\n",
      "The name of car is Kia with model no. 2019 having a color of Orange with a 160kmh speed and 4 tires\n",
      "\n",
      "The name of car is Rickshaw with model no. 2000 having a color of Brown with a 80kmh speed and 3 tires\n",
      "\n",
      "You changed the color Orange \n",
      "\n",
      "Enter the speed of your car\n",
      "82\n",
      "The name of car is Rickshaw with model no. 2000 having a color of Orange with a 82kmh speed and 3 tires\n",
      "\n"
     ]
    }
   ],
   "source": [
    "#Question 5\n",
    "\n",
    "class Car():\n",
    "    def __init__(self,name,model,color,speed,tires):\n",
    "        self.name = name\n",
    "        self.model = model\n",
    "        self.color = color\n",
    "        self.speed = speed\n",
    "        self.tires = tires\n",
    "    \n",
    "    def speed_change(self):\n",
    "        n = int(input(\"Enter the speed of your car\\n\"))\n",
    "        self.speed = n\n",
    "    \n",
    "    def color_change(self,changed):\n",
    "        self.color = changed\n",
    "        print(\"You changed the color {} \\n\".format(self.color))\n",
    "\n",
    "    \n",
    "    def details(self):\n",
    "        print(\"The name of car is {} with model no. {} having a color of {} with a {}kmh speed and {} tires\\n\".format(self.name,self.model,self.color,self.speed,self.tires))\n",
    "        \n",
    "car1 = Car('Mercedes','1923','Black',200,4)\n",
    "\n",
    "car1.details()\n",
    "car1.color_change('Orange')\n",
    "car1.speed_change()\n",
    "car1.details()\n",
    "\n",
    "car2 = Car('Audi','2018','Blue',290,4)\n",
    "\n",
    "car2.details()\n",
    "car2.color_change('Orange')\n",
    "car2.speed_change()\n",
    "car2.details()\n",
    "\n",
    "\n",
    "car3 = Car('Honda','2019','Yellow',300,4)\n",
    "\n",
    "car3.details()\n",
    "car3.color_change('Orange')\n",
    "car3.speed_change()\n",
    "car3.details()\n",
    "\n",
    "\n",
    "car4 = Car('Kia','2019','White',120,4)\n",
    "\n",
    "car4.details()\n",
    "car4.color_change('Orange')\n",
    "car4.speed_change()\n",
    "car4.details()\n",
    "\n",
    "\n",
    "car5 = Car('Rickshaw','2000','Brown',80,3)\n",
    "\n",
    "car5.details()\n",
    "car5.color_change('Orange')\n",
    "car5.speed_change()\n",
    "car5.details()\n",
    "        \n"
   ]
  },
  {
   "cell_type": "code",
   "execution_count": null,
   "metadata": {},
   "outputs": [],
   "source": []
  },
  {
   "cell_type": "code",
   "execution_count": null,
   "metadata": {},
   "outputs": [],
   "source": []
  }
 ],
 "metadata": {
  "kernelspec": {
   "display_name": "Python 3",
   "language": "python",
   "name": "python3"
  },
  "language_info": {
   "codemirror_mode": {
    "name": "ipython",
    "version": 3
   },
   "file_extension": ".py",
   "mimetype": "text/x-python",
   "name": "python",
   "nbconvert_exporter": "python",
   "pygments_lexer": "ipython3",
   "version": "3.6.5"
  }
 },
 "nbformat": 4,
 "nbformat_minor": 2
}
