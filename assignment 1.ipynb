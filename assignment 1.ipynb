{
 "cells": [
  {
   "cell_type": "code",
   "execution_count": 1,
   "metadata": {},
   "outputs": [
    {
     "name": "stdout",
     "output_type": "stream",
     "text": [
      "Twinkle, twinkle, little star,\n",
      "\tHow I wonder what you are!\n",
      "\t\tUp above the world so high,\n",
      "\t\tLike a diamond in the sky.\n",
      "Twinkle, twinkle, little star,\n",
      "\tHow I wonder what you are\n"
     ]
    }
   ],
   "source": [
    "# Question 1\n",
    "print(\"Twinkle, twinkle, little star,\")\n",
    "print(\"\\tHow I wonder what you are!\")\n",
    "print(\"\\t\\tUp above the world so high,\")\n",
    "print(\"\\t\\tLike a diamond in the sky.\")\n",
    "print(\"Twinkle, twinkle, little star,\")\n",
    "print(\"\\tHow I wonder what you are\")\n"
   ]
  },
  {
   "cell_type": "code",
   "execution_count": 2,
   "metadata": {},
   "outputs": [
    {
     "name": "stdout",
     "output_type": "stream",
     "text": [
      "3.6.5\n"
     ]
    }
   ],
   "source": [
    "# Question 2\n",
    "from platform import python_version\n",
    "print(python_version())"
   ]
  },
  {
   "cell_type": "code",
   "execution_count": 4,
   "metadata": {},
   "outputs": [
    {
     "name": "stdout",
     "output_type": "stream",
     "text": [
      "now = 2019-11-02 23:32:03.023995\n"
     ]
    }
   ],
   "source": [
    "# Question 3\n",
    "from datetime import datetime\n",
    "\n",
    "# datetime object containing current date and time\n",
    "now = datetime.now()\n",
    " \n",
    "print(\"now =\", now)"
   ]
  },
  {
   "cell_type": "code",
   "execution_count": 16,
   "metadata": {},
   "outputs": [
    {
     "name": "stdout",
     "output_type": "stream",
     "text": [
      "Enter the radius of the circle ! 2\n",
      "The Area of the circle is = 12.56637061436\n"
     ]
    }
   ],
   "source": [
    "# Question 4\n",
    "# input from user !\n",
    "radius = input(\"Enter the radius of the circle ! \")\n",
    "# calculations of area of circle = pi * r2\n",
    "area_of_circle = (3.14159265359)*(int(radius)**2)\n",
    "# print the area of the circle\n",
    "print(\"The Area of the circle is = {0}\".format(area_of_circle))"
   ]
  },
  {
   "cell_type": "code",
   "execution_count": 24,
   "metadata": {},
   "outputs": [
    {
     "name": "stdout",
     "output_type": "stream",
     "text": [
      "Enter your first name ! Umar\n",
      "Enter your last name ! Ahmed\n",
      "Your name in Reverse Order ! = demhA ramU\n"
     ]
    }
   ],
   "source": [
    "# Question 5\n",
    "first_name = input(\"Enter your first name ! \")\n",
    "last_name = input(\"Enter your last name ! \")\n",
    "full_name = first_name + \" \" + last_name\n",
    "\n",
    "print(\"Your name in Reverse Order ! = \"+full_name[::-1])"
   ]
  },
  {
   "cell_type": "code",
   "execution_count": 49,
   "metadata": {},
   "outputs": [
    {
     "name": "stdout",
     "output_type": "stream",
     "text": [
      "Enter the first variable ! 24\n",
      "Enter the second variable ! 6\n",
      "Oops ! you typed an integer but no worry it can be added\n",
      "The addition of 24 and 6 = 30\n"
     ]
    }
   ],
   "source": [
    "# Question 6\n",
    "a = input (\"Enter the first variable ! \")\n",
    "b = input (\"Enter the second variable ! \")\n",
    "try:\n",
    "    val_a = int(a)\n",
    "    val_b = int(b)\n",
    "    print(\"Oops ! you typed an integer but no worry it can be added\")\n",
    "    print(\"The addition of {0} and {1} = {2}\".format(val_a,val_b,val_a+val_b))\n",
    "except ValueError:\n",
    "    print(\"Oops ! you typed a string ? but no worry it can be added\")\n",
    "    print(\"The addition of the strings are = \"+ a+b)\n",
    "    \n"
   ]
  },
  {
   "cell_type": "code",
   "execution_count": null,
   "metadata": {},
   "outputs": [],
   "source": []
  },
  {
   "cell_type": "markdown",
   "metadata": {},
   "source": []
  }
 ],
 "metadata": {
  "kernelspec": {
   "display_name": "Python 3",
   "language": "python",
   "name": "python3"
  },
  "language_info": {
   "codemirror_mode": {
    "name": "ipython",
    "version": 3
   },
   "file_extension": ".py",
   "mimetype": "text/x-python",
   "name": "python",
   "nbconvert_exporter": "python",
   "pygments_lexer": "ipython3",
   "version": "3.6.5"
  }
 },
 "nbformat": 4,
 "nbformat_minor": 2
}
