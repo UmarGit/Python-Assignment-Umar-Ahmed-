{
 "cells": [
  {
   "cell_type": "code",
   "execution_count": 3,
   "metadata": {},
   "outputs": [
    {
     "name": "stdout",
     "output_type": "stream",
     "text": [
      "Enter the Marks of Physics 99.99\n",
      "Enter the Marks of Chemistry 78.5\n",
      "Enter the Marks of Mathematics 85.62\n",
      "Enter the Marks of Biology 76.99\n",
      "Enter the Marks of Computer 91.23\n",
      "------------------MARKSHEET--------------------\n",
      "Marks      \t\tMarks\tPercentage\n",
      "Physics    \t\t99.99\t99.99%\n",
      "Chemistry  \t\t78.5\t78.5%\n",
      "Mathematics\t\t85.62\t85.62%\n",
      "Biology    \t\t76.99\t76.99%\n",
      "Computer   \t\t91.23\t91.23%\n",
      "Totals     \t\t432.33000000000004\t86.46600000000001%\n",
      "Good ! You got B+ grade\n"
     ]
    }
   ],
   "source": [
    "# Question 1 :\n",
    "Physics = float(input(\"Enter the Marks of Physics \"))\n",
    "Chemistry = float(input(\"Enter the Marks of Chemistry \"))\n",
    "Mathematics = float(input(\"Enter the Marks of Mathematics \"))\n",
    "Biology = float(input(\"Enter the Marks of Biology \"))\n",
    "Computer = float(input(\"Enter the Marks of Computer \"))\n",
    "\n",
    "total = Physics + Chemistry + Mathematics + Biology + Computer\n",
    "\n",
    "percentage = (total / 500) * 100\n",
    "\n",
    "if percentage >= 100 :\n",
    "    print(\"------------------MARKSHEET--------------------\")\n",
    "    print(\"Marks      \\t\\tMarks\\tPercentage\")\n",
    "    print(\"Physics    \\t\\t{}\\t{}%\".format(Physics,(Physics/100)*100))\n",
    "    print(\"Chemistry  \\t\\t{}\\t{}%\".format(Chemistry,(Chemistry/100)*100))\n",
    "    print(\"Mathematics\\t\\t{}\\t{}%\".format(Mathematics,(Mathematics/100)*100))\n",
    "    print(\"Biology    \\t\\t{}\\t{}%\".format(Biology,(Biology/100)*100))\n",
    "    print(\"Computer   \\t\\t{}\\t{}%\".format(Computer,(Computer/100)*100))\n",
    "    print(\"Totals     \\t\\t{}\\t{}%\".format(total,percentage))\n",
    "    print(\"Congratulations ! You got A grade\")\n",
    "elif percentage >=80 :\n",
    "    print(\"------------------MARKSHEET--------------------\")\n",
    "    print(\"Marks      \\t\\tMarks\\tPercentage\")\n",
    "    print(\"Physics    \\t\\t{0}\\t{1}%\".format(Physics,(Physics/100)*100))\n",
    "    print(\"Chemistry  \\t\\t{0}\\t{1}%\".format(Chemistry,(Chemistry/100)*100))\n",
    "    print(\"Mathematics\\t\\t{0}\\t{1}%\".format(Mathematics,(Mathematics/100)*100))\n",
    "    print(\"Biology    \\t\\t{0}\\t{1}%\".format(Biology,(Biology/100)*100))\n",
    "    print(\"Computer   \\t\\t{0}\\t{1}%\".format(Computer,(Computer/100)*100))\n",
    "    print(\"Totals     \\t\\t{}\\t{}%\".format(total,percentage))\n",
    "    print(\"Good ! You got B+ grade\")\n",
    "elif percentage >=70 :\n",
    "    print(\"------------------MARKSHEET--------------------\")\n",
    "    print(\"Marks      \\t\\tMarks\\tPercentage\")\n",
    "    print(\"Physics    \\t\\t{0}\\t{1}%\".format(Physics,(Physics/100)*100))\n",
    "    print(\"Chemistry  \\t\\t{0}\\t{1}%\".format(Chemistry,(Chemistry/100)*100))\n",
    "    print(\"Mathematics\\t\\t{0}\\t{1}%\".format(Mathematics,(Mathematics/100)*100))\n",
    "    print(\"Biology    \\t\\t{0}\\t{1}%\".format(Biology,(Biology/100)*100))\n",
    "    print(\"Computer   \\t\\t{0}\\t{1}%\".format(Computer,(Computer/100)*100))\n",
    "    print(\"Totals     \\t\\t{}\\t{}%\".format(total,percentage))\n",
    "    print(\"Awesome ! You got B grade\")\n",
    "elif percentage >=65 :\n",
    "    print(\"------------------MARKSHEET--------------------\")\n",
    "    print(\"Marks      \\tMarks\\tPercentage\")\n",
    "    print(\"Physics    \\t\\t{0}\\t{1}%\".format(Physics,(Physics/100)*100))\n",
    "    print(\"Chemistry  \\t\\t{0}\\t{1}%\".format(Chemistry,(Chemistry/100)*100))\n",
    "    print(\"Mathematics\\t\\t{0}\\t{1}%\".format(Mathematics,(Mathematics/100)*100))\n",
    "    print(\"Biology    \\t\\t{0}\\t{1}%\".format(Biology,(Biology/100)*100))\n",
    "    print(\"Computer   \\t\\t{0}\\t{1}%\".format(Computer,(Computer/100)*100))\n",
    "    print(\"Totals     \\t\\t{}\\t{}%\".format(total,percentage))\n",
    "    print(\"Not Bad ! You got C+ grade\")\n",
    "elif percentage >=55 :\n",
    "    print(\"------------------MARKSHEET--------------------\")\n",
    "    print(\"Marks      \\tMarks\\tPercentage\")\n",
    "    print(\"Physics    \\t\\t{0}\\t{1}%\".format(Physics,(Physics/100)*100))\n",
    "    print(\"Chemistry  \\t\\t{0}\\t{1}%\".format(Chemistry,(Chemistry/100)*100))\n",
    "    print(\"Mathematics\\t\\t{0}\\t{1}%\".format(Mathematics,(Mathematics/100)*100))\n",
    "    print(\"Biology    \\t\\t{0}\\t{1}%\".format(Biology,(Biology/100)*100))\n",
    "    print(\"Computer   \\t\\t{0}\\t{1}%\".format(Computer,(Computer/100)*100))\n",
    "    print(\"Totals     \\t\\t{}\\t{}%\".format(total,percentage))\n",
    "    print(\"Work Hard ! You got C grade\")\n",
    "else:\n",
    "    print(\"------------------MARKSHEET--------------------\")\n",
    "    print(\"Marks      \\t\\tMarks\\tPercentage\")\n",
    "    print(\"Physics    \\t\\t{0}\\t{1}%\".format(Physics,(Physics/100)*100))\n",
    "    print(\"Chemistry  \\t\\t{0}\\t{1}%\".format(Chemistry,(Chemistry/100)*100))\n",
    "    print(\"Mathematics\\t\\t{0}\\t{1}%\".format(Mathematics,(Mathematics/100)*100))\n",
    "    print(\"Biology    \\t\\t{0}\\t{1}%\".format(Biology,(Biology/100)*100))\n",
    "    print(\"Computer   \\t\\t{0}\\t{1}%\".format(Computer,(Computer/100)*100))\n",
    "    print(\"Totals     \\t\\t{}\\t{}%\".format(total,percentage))\n",
    "    print(\"Sorry you are failed better luck next time\")"
   ]
  },
  {
   "cell_type": "code",
   "execution_count": 34,
   "metadata": {},
   "outputs": [
    {
     "name": "stdout",
     "output_type": "stream",
     "text": [
      "Enter the number to check it is even or odd ? 2\n",
      "The number is Even !\n"
     ]
    }
   ],
   "source": [
    "# Question 2\n",
    "num = int(input(\"Enter the number to check it is even or odd ? \"))\n",
    "\n",
    "if num % 2 == 0 :\n",
    "    print(\"The number is Even !\")\n",
    "else :\n",
    "    print(\"The number is Odd !\")"
   ]
  },
  {
   "cell_type": "code",
   "execution_count": 35,
   "metadata": {},
   "outputs": [
    {
     "name": "stdout",
     "output_type": "stream",
     "text": [
      "[11, 2, 3, 2, 3, 213, 21, 321, 31, 321, 3, 3]\n",
      "\n",
      "The length of the list is : 12\n"
     ]
    }
   ],
   "source": [
    "# Question 3\n",
    "list = [11,2,3,2,3,213,21,321,31,321,3,3]\n",
    "\n",
    "length = len(list)\n",
    "\n",
    "print(list)\n",
    "\n",
    "print(\"\\nThe length of the list is : {}\".format(length))"
   ]
  },
  {
   "cell_type": "code",
   "execution_count": 36,
   "metadata": {},
   "outputs": [
    {
     "name": "stdout",
     "output_type": "stream",
     "text": [
      "Array\n",
      "[1, 1, 2, 3, 5, 8, 13, 21, 34, 55, 88]\n",
      "\n",
      "The sum of the list is : 231\n"
     ]
    }
   ],
   "source": [
    "# Question 4\n",
    "list = [1, 1, 2, 3, 5, 8, 13, 21, 34, 55, 88]\n",
    "\n",
    "print(\"Array\")\n",
    "\n",
    "print(list)\n",
    "\n",
    "sum = 0\n",
    "\n",
    "for x in list:\n",
    "    sum += x\n",
    "    \n",
    "print(\"\\nThe sum of the list is : {}\".format(sum))"
   ]
  },
  {
   "cell_type": "code",
   "execution_count": 37,
   "metadata": {},
   "outputs": [
    {
     "name": "stdout",
     "output_type": "stream",
     "text": [
      "Array\n",
      "[1, 1, 2, 3, 5, 8, 13, 21, 34, 55, 88, -8, 55, 0, 99, -88, -1000]\n",
      "Sorted Array\n",
      "[99, 88, 55, 55, 34, 21, 13, 8, 5, 3, 2, 1, 1, 0, -8, -88, -1000]\n",
      "The greatest number is : 99\n"
     ]
    }
   ],
   "source": [
    "# Question 5\n",
    "print(\"Array\")\n",
    "\n",
    "list = [1, 1, 2, 3, 5, 8, 13, 21, 34, 55, 88,-8,55,0,99,-88,-1000]\n",
    "\n",
    "print(list)\n",
    "\n",
    "#firstly sorting the array to get top most element be the largest number\n",
    "for y in range(len(list)-1) :\n",
    "    \n",
    "    for x in range(len(list)-1) :\n",
    "        \n",
    "        if list[x] < list[x + 1] :\n",
    "            \n",
    "            list[x] , list[x + 1] = list[x + 1] , list[x]\n",
    "            \n",
    "print(\"Sorted Array\")\n",
    "\n",
    "print(list)\n",
    "\n",
    "print(\"The greatest number is : {}\".format(list[0]))"
   ]
  },
  {
   "cell_type": "code",
   "execution_count": 38,
   "metadata": {},
   "outputs": [
    {
     "name": "stdout",
     "output_type": "stream",
     "text": [
      "Array\n",
      "[1, 1, 2, 3, 5, 8, 13, 21, 34, 55, 88, -8, 55, 0, 99, -88, -1000]\n",
      "1\n",
      "1\n",
      "2\n",
      "3\n",
      "-8\n",
      "0\n",
      "-88\n"
     ]
    }
   ],
   "source": [
    "# Question 6\n",
    "print(\"Array\")\n",
    "\n",
    "list = [1, 1, 2, 3, 5, 8, 13, 21, 34, 55, 88,-8,55,0,99,-88,-1000]\n",
    "\n",
    "print(list)\n",
    "\n",
    "for x in range(len(list)-1) :\n",
    "        \n",
    "        if list[x] < 5 :\n",
    "            \n",
    "            print(list[x])\n"
   ]
  },
  {
   "cell_type": "code",
   "execution_count": null,
   "metadata": {},
   "outputs": [],
   "source": []
  }
 ],
 "metadata": {
  "kernelspec": {
   "display_name": "Python 3",
   "language": "python",
   "name": "python3"
  },
  "language_info": {
   "codemirror_mode": {
    "name": "ipython",
    "version": 3
   },
   "file_extension": ".py",
   "mimetype": "text/x-python",
   "name": "python",
   "nbconvert_exporter": "python",
   "pygments_lexer": "ipython3",
   "version": "3.6.5"
  }
 },
 "nbformat": 4,
 "nbformat_minor": 2
}
